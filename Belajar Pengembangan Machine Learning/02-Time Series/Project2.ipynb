{
  "nbformat": 4,
  "nbformat_minor": 0,
  "metadata": {
    "colab": {
      "name": "Project2.ipynb",
      "provenance": [],
      "collapsed_sections": []
    },
    "kernelspec": {
      "name": "python3",
      "display_name": "Python 3"
    },
    "language_info": {
      "name": "python"
    },
    "accelerator": "GPU"
  },
  "cells": [
    {
      "cell_type": "code",
      "metadata": {
        "id": "BkPiIawZDRfW"
      },
      "source": [
        "#import library\n",
        "import os\n",
        "import tensorflow as tf\n",
        "import pandas as pd\n",
        "import numpy as np\n",
        "import matplotlib.pyplot as plt\n",
        "import sklearn.preprocessing\n",
        "\n",
        "from sklearn.model_selection import train_test_split\n"
      ],
      "execution_count": 1,
      "outputs": []
    },
    {
      "cell_type": "markdown",
      "metadata": {
        "id": "1I_l5rVTSNF8"
      },
      "source": [
        "Kemudian, ubah dataset menjadi dataframe dengan fungsi read_csv(). Tampilkan 5 data teratas pada dataframe menggunakan fungsi head()"
      ]
    },
    {
      "cell_type": "code",
      "metadata": {
        "colab": {
          "base_uri": "https://localhost:8080/",
          "height": 204
        },
        "id": "PwwOGl_fEdFu",
        "outputId": "dd0556e9-2eec-4d74-98a6-0716c4a003e6"
      },
      "source": [
        "#sumber dataset https://www.kaggle.com/robikscube/hourly-energy-consumption\n",
        "#Membaca file CSV dan melihat 5 baris teratas\n",
        "df = pd.read_csv('/content/sample_data/AEP_hourly.csv')\n",
        "df.head()"
      ],
      "execution_count": 2,
      "outputs": [
        {
          "output_type": "execute_result",
          "data": {
            "text/html": [
              "<div>\n",
              "<style scoped>\n",
              "    .dataframe tbody tr th:only-of-type {\n",
              "        vertical-align: middle;\n",
              "    }\n",
              "\n",
              "    .dataframe tbody tr th {\n",
              "        vertical-align: top;\n",
              "    }\n",
              "\n",
              "    .dataframe thead th {\n",
              "        text-align: right;\n",
              "    }\n",
              "</style>\n",
              "<table border=\"1\" class=\"dataframe\">\n",
              "  <thead>\n",
              "    <tr style=\"text-align: right;\">\n",
              "      <th></th>\n",
              "      <th>Datetime</th>\n",
              "      <th>AEP_MW</th>\n",
              "    </tr>\n",
              "  </thead>\n",
              "  <tbody>\n",
              "    <tr>\n",
              "      <th>0</th>\n",
              "      <td>2004-12-31 01:00:00</td>\n",
              "      <td>13478.0</td>\n",
              "    </tr>\n",
              "    <tr>\n",
              "      <th>1</th>\n",
              "      <td>2004-12-31 02:00:00</td>\n",
              "      <td>12865.0</td>\n",
              "    </tr>\n",
              "    <tr>\n",
              "      <th>2</th>\n",
              "      <td>2004-12-31 03:00:00</td>\n",
              "      <td>12577.0</td>\n",
              "    </tr>\n",
              "    <tr>\n",
              "      <th>3</th>\n",
              "      <td>2004-12-31 04:00:00</td>\n",
              "      <td>12517.0</td>\n",
              "    </tr>\n",
              "    <tr>\n",
              "      <th>4</th>\n",
              "      <td>2004-12-31 05:00:00</td>\n",
              "      <td>12670.0</td>\n",
              "    </tr>\n",
              "  </tbody>\n",
              "</table>\n",
              "</div>"
            ],
            "text/plain": [
              "              Datetime   AEP_MW\n",
              "0  2004-12-31 01:00:00  13478.0\n",
              "1  2004-12-31 02:00:00  12865.0\n",
              "2  2004-12-31 03:00:00  12577.0\n",
              "3  2004-12-31 04:00:00  12517.0\n",
              "4  2004-12-31 05:00:00  12670.0"
            ]
          },
          "metadata": {
            "tags": []
          },
          "execution_count": 2
        }
      ]
    },
    {
      "cell_type": "code",
      "metadata": {
        "colab": {
          "base_uri": "https://localhost:8080/"
        },
        "id": "0KKurJZ5E9hb",
        "outputId": "ff3dea0e-b49d-4210-ee03-b890ec9d94b4"
      },
      "source": [
        "#mengetahui jumlah baris\n",
        "print(len(df['Datetime']))"
      ],
      "execution_count": 3,
      "outputs": [
        {
          "output_type": "stream",
          "text": [
            "121273\n"
          ],
          "name": "stdout"
        }
      ]
    },
    {
      "cell_type": "markdown",
      "metadata": {
        "id": "O6_1JoyTSSv6"
      },
      "source": [
        "Kita dapat mengecek apakah ada nilai yang hilang dari dataset menggunakan fungsi isnull()."
      ]
    },
    {
      "cell_type": "code",
      "metadata": {
        "colab": {
          "base_uri": "https://localhost:8080/"
        },
        "id": "GQQollixFn4Z",
        "outputId": "b31d3db5-f8f2-42c3-935f-39b767107059"
      },
      "source": [
        "#mengecek apakah ada data yang kosong\n",
        "df.isnull().sum()"
      ],
      "execution_count": 4,
      "outputs": [
        {
          "output_type": "execute_result",
          "data": {
            "text/plain": [
              "Datetime    0\n",
              "AEP_MW      0\n",
              "dtype: int64"
            ]
          },
          "metadata": {
            "tags": []
          },
          "execution_count": 4
        }
      ]
    },
    {
      "cell_type": "code",
      "metadata": {
        "id": "HyK5ne44EdWb"
      },
      "source": [
        "#Melakukan Plotting(Belum Di normalisasi)\n",
        "def plot_series(time, series, format=\"-\", start=0, end=None):\n",
        "    plt.plot(time[start:end], series[start:end], format)\n",
        "    plt.xlabel(\"Time\")\n",
        "    plt.ylabel(\"Value\")\n",
        "    plt.grid(True)"
      ],
      "execution_count": 5,
      "outputs": []
    },
    {
      "cell_type": "code",
      "metadata": {
        "colab": {
          "base_uri": "https://localhost:8080/",
          "height": 265
        },
        "id": "jt97JWMSFvDA",
        "outputId": "8b2ba922-b5cc-4259-8733-ca39f25a5fd4"
      },
      "source": [
        "df.plot()\n",
        "plt.show()"
      ],
      "execution_count": 6,
      "outputs": [
        {
          "output_type": "display_data",
          "data": {
            "image/png": "[encoded data removed]",
            "text/plain": [
              "<Figure size 432x288 with 1 Axes>"
            ]
          },
          "metadata": {
            "tags": [],
            "needs_background": "light"
          }
        }
      ]
    },
    {
      "cell_type": "code",
      "metadata": {
        "colab": {
          "base_uri": "https://localhost:8080/"
        },
        "id": "MY4QPIJ1F1FC",
        "outputId": "95b1866c-c26b-4ee5-c8e6-bdba24083e81"
      },
      "source": [
        "#Melakukan normalisasi dengan minmaxscaler\n",
        "scaler = sklearn.preprocessing.MinMaxScaler()\n",
        "df_norm = scaler.fit_transform(df['AEP_MW'].values.reshape(-1,1))\n",
        "df_norm.shape"
      ],
      "execution_count": 7,
      "outputs": [
        {
          "output_type": "execute_result",
          "data": {
            "text/plain": [
              "(121273, 1)"
            ]
          },
          "metadata": {
            "tags": []
          },
          "execution_count": 7
        }
      ]
    },
    {
      "cell_type": "code",
      "metadata": {
        "colab": {
          "base_uri": "https://localhost:8080/",
          "height": 388
        },
        "id": "NdLy9xQnGBmA",
        "outputId": "afac1361-a8e0-40bc-8301-c4f8c9b04616"
      },
      "source": [
        "##Melakukan Plotting(Sesudah Di normalisasi)\n",
        "power = df_norm\n",
        "time = np.array(df.index)\n",
        "plt.figure(figsize=(10, 6))\n",
        "plot_series(time, power)"
      ],
      "execution_count": 8,
      "outputs": [
        {
          "output_type": "display_data",
          "data": {
            "image/png": "[encoded data removed]",
            "text/plain": [
              "<Figure size 720x432 with 1 Axes>"
            ]
          },
          "metadata": {
            "tags": [],
            "needs_background": "light"
          }
        }
      ]
    },
    {
      "cell_type": "markdown",
      "metadata": {
        "id": "BPc5g-jASeTD"
      },
      "source": [
        "Dapat dilihat dari output cell yang kita jalankan menunjukkan bahwa data kita merupakan time series yang bersifat musiman"
      ]
    },
    {
      "cell_type": "code",
      "metadata": {
        "id": "MoBd6dkQGE3n",
        "colab": {
          "base_uri": "https://localhost:8080/",
          "height": 36
        },
        "outputId": "bae2b239-9b91-4096-f35d-7843ce0fffb3"
      },
      "source": [
        "\n",
        "x_train, x_valid, time_train, time_valid = train_test_split(power, time, test_size = 0.2, random_state = 0 , shuffle=False)\n",
        "\n",
        "'''\n",
        "split_time = 50000\n",
        "time_train = time[:split_time]\n",
        "x_train = power[:split_time]\n",
        "time_valid = time[split_time:]\n",
        "x_valid = power[split_time:]\n",
        "'''\n",
        "\n"
      ],
      "execution_count": 9,
      "outputs": [
        {
          "output_type": "execute_result",
          "data": {
            "application/vnd.google.colaboratory.intrinsic+json": {
              "type": "string"
            },
            "text/plain": [
              "'\\nsplit_time = 50000\\ntime_train = time[:split_time]\\nx_train = power[:split_time]\\ntime_valid = time[split_time:]\\nx_valid = power[split_time:]\\n'"
            ]
          },
          "metadata": {
            "tags": []
          },
          "execution_count": 9
        }
      ]
    },
    {
      "cell_type": "code",
      "metadata": {
        "colab": {
          "base_uri": "https://localhost:8080/"
        },
        "id": "yhzLU7TfKjlT",
        "outputId": "3785c6e9-638b-486b-8c33-44661f43565d"
      },
      "source": [
        "print(len(x_train), len(x_valid))"
      ],
      "execution_count": 10,
      "outputs": [
        {
          "output_type": "stream",
          "text": [
            "97018 24255\n"
          ],
          "name": "stdout"
        }
      ]
    },
    {
      "cell_type": "code",
      "metadata": {
        "id": "z4s_RU3yHEgu"
      },
      "source": [
        "window_size = 30\n",
        "batch_size = 32\n",
        "shuffle_buffer_size = 1000"
      ],
      "execution_count": 11,
      "outputs": []
    },
    {
      "cell_type": "code",
      "metadata": {
        "id": "bhg-OaeAGKUJ"
      },
      "source": [
        "#Fungsi di bawah menerima sebuah series/atribut kita yang telah di konversi menjadi tipe numpy, lalu mengembalikan label dan atribut dari dataset dalam bentuk batch.\n",
        "def windowed_dataset(series, window_size, batch_size, shuffle_buffer):\n",
        "    series = tf.expand_dims(series, axis=-1)\n",
        "    ds = tf.data.Dataset.from_tensor_slices(series)\n",
        "    ds = ds.window(window_size + 1, shift=1, drop_remainder=True)\n",
        "    ds = ds.flat_map(lambda w: w.batch(window_size + 1))\n",
        "    ds = ds.shuffle(shuffle_buffer)\n",
        "    ds = ds.map(lambda w: (w[:-1], w[1:]))\n",
        "    return ds.batch(batch_size).prefetch(1)"
      ],
      "execution_count": 12,
      "outputs": []
    },
    {
      "cell_type": "code",
      "metadata": {
        "id": "qBFAK-EdGsvR"
      },
      "source": [
        "tf.keras.backend.clear_session()\n",
        "tf.random.set_seed(51)\n",
        "np.random.seed(51)\n"
      ],
      "execution_count": 13,
      "outputs": []
    },
    {
      "cell_type": "code",
      "metadata": {
        "id": "my5NdvUjGt1O"
      },
      "source": [
        "train_set = windowed_dataset(x_train, window_size=60, batch_size=100, shuffle_buffer=shuffle_buffer_size)"
      ],
      "execution_count": 14,
      "outputs": []
    },
    {
      "cell_type": "code",
      "metadata": {
        "id": "p2Ngi4qsG1S7"
      },
      "source": [
        "#Membuat model Neural Network(Coba menggunakan 1 layer LSTM)\n",
        "model = tf.keras.models.Sequential([\n",
        "    tf.keras.layers.Conv1D(filters=60, kernel_size=5,\n",
        "                      strides=1, padding=\"causal\",\n",
        "                      activation=\"relu\",\n",
        "                      input_shape=[None, 1]),\n",
        "    tf.keras.layers.LSTM(60,return_sequences=True),\n",
        "    tf.keras.layers.Dense(10, activation ='relu'),\n",
        "    tf.keras.layers.Dense(1),\n",
        "    tf.keras.layers.Lambda(lambda x: x * 400)\n",
        "])"
      ],
      "execution_count": 15,
      "outputs": []
    },
    {
      "cell_type": "code",
      "metadata": {
        "colab": {
          "base_uri": "https://localhost:8080/"
        },
        "id": "kvqbG97kHRHy",
        "outputId": "845680ea-1d53-4849-b856-9a645c4cd496"
      },
      "source": [
        "#Membuat optimizer\n",
        "optimizer = tf.keras.optimizers.SGD(lr=1e-5, momentum=0.9)"
      ],
      "execution_count": 16,
      "outputs": [
        {
          "output_type": "stream",
          "text": [
            "/usr/local/lib/python3.7/dist-packages/tensorflow/python/keras/optimizer_v2/optimizer_v2.py:375: UserWarning: The `lr` argument is deprecated, use `learning_rate` instead.\n",
            "  \"The `lr` argument is deprecated, use `learning_rate` instead.\")\n"
          ],
          "name": "stderr"
        }
      ]
    },
    {
      "cell_type": "code",
      "metadata": {
        "id": "5QzYhGIFHivo"
      },
      "source": [
        "class myCallback(tf.keras.callbacks.Callback):\n",
        "  def on_epoch_end(self, epoch, logs={}):\n",
        "    if(logs.get('mae')<0.05):\n",
        "      print(\"\\nMAE telah <5%!\")\n",
        "      self.model.stop_training = True\n",
        "callbacks = myCallback()"
      ],
      "execution_count": 17,
      "outputs": []
    },
    {
      "cell_type": "code",
      "metadata": {
        "id": "HcMkr7qdHT3d"
      },
      "source": [
        "model.compile(loss=tf.keras.losses.Huber(),\n",
        "              optimizer=optimizer,\n",
        "              metrics=[\"mae\"])"
      ],
      "execution_count": 18,
      "outputs": []
    },
    {
      "cell_type": "code",
      "metadata": {
        "colab": {
          "base_uri": "https://localhost:8080/"
        },
        "id": "KgFqTRdZLFs-",
        "outputId": "a60841f9-2c6a-4c05-89e8-f7e0f2dd4d50"
      },
      "source": [
        "#Bismillah\n",
        "history = model.fit(train_set,epochs=100, callbacks=[callbacks])"
      ],
      "execution_count": 19,
      "outputs": [
        {
          "output_type": "stream",
          "text": [
            "Epoch 1/100\n",
            "970/970 [==============================] - 31s 29ms/step - loss: 0.1032 - mae: 0.2187\n",
            "Epoch 2/100\n",
            "970/970 [==============================] - 27s 28ms/step - loss: 0.0074 - mae: 0.0962\n",
            "Epoch 3/100\n",
            "970/970 [==============================] - 28s 28ms/step - loss: 0.0064 - mae: 0.0891\n",
            "Epoch 4/100\n",
            "970/970 [==============================] - 27s 28ms/step - loss: 0.0057 - mae: 0.0844\n",
            "Epoch 5/100\n",
            "970/970 [==============================] - 28s 28ms/step - loss: 0.0053 - mae: 0.0808\n",
            "Epoch 6/100\n",
            "970/970 [==============================] - 27s 27ms/step - loss: 0.0049 - mae: 0.0773\n",
            "Epoch 7/100\n",
            "970/970 [==============================] - 27s 28ms/step - loss: 0.0045 - mae: 0.0744\n",
            "Epoch 8/100\n",
            "970/970 [==============================] - 27s 27ms/step - loss: 0.0042 - mae: 0.0717\n",
            "Epoch 9/100\n",
            "970/970 [==============================] - 27s 28ms/step - loss: 0.0040 - mae: 0.0697\n",
            "Epoch 10/100\n",
            "970/970 [==============================] - 27s 27ms/step - loss: 0.0038 - mae: 0.0677\n",
            "Epoch 11/100\n",
            "970/970 [==============================] - 27s 28ms/step - loss: 0.0036 - mae: 0.0659\n",
            "Epoch 12/100\n",
            "970/970 [==============================] - 26s 27ms/step - loss: 0.0034 - mae: 0.0643\n",
            "Epoch 13/100\n",
            "970/970 [==============================] - 27s 27ms/step - loss: 0.0033 - mae: 0.0630\n",
            "Epoch 14/100\n",
            "970/970 [==============================] - 27s 28ms/step - loss: 0.0032 - mae: 0.0618\n",
            "Epoch 15/100\n",
            "970/970 [==============================] - 27s 28ms/step - loss: 0.0031 - mae: 0.0606\n",
            "Epoch 16/100\n",
            "970/970 [==============================] - 28s 28ms/step - loss: 0.0030 - mae: 0.0598\n",
            "Epoch 17/100\n",
            "970/970 [==============================] - 28s 28ms/step - loss: 0.0029 - mae: 0.0588\n",
            "Epoch 18/100\n",
            "970/970 [==============================] - 27s 28ms/step - loss: 0.0029 - mae: 0.0581\n",
            "Epoch 19/100\n",
            "970/970 [==============================] - 28s 28ms/step - loss: 0.0028 - mae: 0.0572\n",
            "Epoch 20/100\n",
            "970/970 [==============================] - 27s 28ms/step - loss: 0.0027 - mae: 0.0566\n",
            "Epoch 21/100\n",
            "970/970 [==============================] - 28s 28ms/step - loss: 0.0027 - mae: 0.0558\n",
            "Epoch 22/100\n",
            "970/970 [==============================] - 28s 28ms/step - loss: 0.0026 - mae: 0.0552\n",
            "Epoch 23/100\n",
            "970/970 [==============================] - 28s 28ms/step - loss: 0.0025 - mae: 0.0545\n",
            "Epoch 24/100\n",
            "970/970 [==============================] - 28s 28ms/step - loss: 0.0025 - mae: 0.0538\n",
            "Epoch 25/100\n",
            "970/970 [==============================] - 27s 27ms/step - loss: 0.0025 - mae: 0.0534\n",
            "Epoch 26/100\n",
            "970/970 [==============================] - 27s 28ms/step - loss: 0.0024 - mae: 0.0527\n",
            "Epoch 27/100\n",
            "970/970 [==============================] - 27s 28ms/step - loss: 0.0024 - mae: 0.0522\n",
            "Epoch 28/100\n",
            "970/970 [==============================] - 28s 28ms/step - loss: 0.0023 - mae: 0.0517\n",
            "Epoch 29/100\n",
            "970/970 [==============================] - 28s 28ms/step - loss: 0.0023 - mae: 0.0512\n",
            "Epoch 30/100\n",
            "970/970 [==============================] - 27s 28ms/step - loss: 0.0023 - mae: 0.0508\n",
            "Epoch 31/100\n",
            "970/970 [==============================] - 27s 28ms/step - loss: 0.0022 - mae: 0.0502\n",
            "Epoch 32/100\n",
            "970/970 [==============================] - 26s 27ms/step - loss: 0.0022 - mae: 0.0497\n",
            "\n",
            "MAE telah <5%!\n"
          ],
          "name": "stdout"
        }
      ]
    },
    {
      "cell_type": "code",
      "metadata": {
        "id": "okVs8f1xHaG-"
      },
      "source": [
        "def plot(history, info_type='loss'):\n",
        "\n",
        "    \"\"\"\n",
        "    history: the history callback from a model.fit\n",
        "    info_type: what you want to show. (e.g. 'loss', 'acc', 'accuracy')\n",
        "    \"\"\"\n",
        "    plt.plot(history.history[info_type], label=[info_type])\n",
        "    try:\n",
        "        plt.plot(history.history['val_' + info_type], label=['val_' + info_type])\n",
        "    except Exception:\n",
        "        print(f'no val_{info_type}')\n",
        "    plt.title(info_type)\n",
        "    plt.legend()"
      ],
      "execution_count": 20,
      "outputs": []
    },
    {
      "cell_type": "code",
      "metadata": {
        "colab": {
          "base_uri": "https://localhost:8080/",
          "height": 299
        },
        "id": "ToTFQyGHIIXp",
        "outputId": "da2d3e5c-602c-4c58-b44a-80bf386a952a"
      },
      "source": [
        "plot(history)"
      ],
      "execution_count": 21,
      "outputs": [
        {
          "output_type": "stream",
          "text": [
            "no val_loss\n"
          ],
          "name": "stdout"
        },
        {
          "output_type": "display_data",
          "data": {
            "image/png": "[encoded data removed]",
            "text/plain": [
              "<Figure size 432x288 with 1 Axes>"
            ]
          },
          "metadata": {
            "tags": [],
            "needs_background": "light"
          }
        }
      ]
    },
    {
      "cell_type": "code",
      "metadata": {
        "colab": {
          "base_uri": "https://localhost:8080/",
          "height": 299
        },
        "id": "s8GlaNDZIVTG",
        "outputId": "719d05e6-14a6-4c21-c5dc-65e8b563ac97"
      },
      "source": [
        "plot(history, 'mae')"
      ],
      "execution_count": 22,
      "outputs": [
        {
          "output_type": "stream",
          "text": [
            "no val_mae\n"
          ],
          "name": "stdout"
        },
        {
          "output_type": "display_data",
          "data": {
            "image/png": "[encoded data removed]",
            "text/plain": [
              "<Figure size 432x288 with 1 Axes>"
            ]
          },
          "metadata": {
            "tags": [],
            "needs_background": "light"
          }
        }
      ]
    }
  ]
}